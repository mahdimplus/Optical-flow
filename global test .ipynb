{
 "cells": [
  {
   "cell_type": "code",
   "execution_count": 20,
   "metadata": {},
   "outputs": [],
   "source": [
    "import SimpleITK as sitk\n",
    "\n",
    "import numpy as np\n",
    "import pandas as pd\n",
    "import matplotlib.pyplot as plt\n",
    "\n",
    "import math\n",
    "from scipy import signal\n",
    "import cv2\n",
    "import random\n",
    "\n",
    "from random import randrange\n",
    "from numpy import linalg \n",
    "from scipy import signal\n",
    "from pylab import *\n",
    "from PIL import Image\n",
    "\n",
    "## full matrix\n",
    "import sys\n",
    "import numpy\n",
    "numpy.set_printoptions(threshold=sys.maxsize)\n",
    "## imshow problem\n",
    "import tkinter\n",
    "import matplotlib\n",
    "matplotlib.use('TkAgg')"
   ]
  },
  {
   "cell_type": "code",
   "execution_count": 2,
   "metadata": {},
   "outputs": [],
   "source": [
    "dir1='/home/mahdi/Desktop/Im6.png'\n",
    "dir2='/home/mahdi/Desktop/Im7.png'"
   ]
  },
  {
   "cell_type": "code",
   "execution_count": 32,
   "metadata": {},
   "outputs": [],
   "source": [
    "directory='/home/mahdi/python codes/final version/SP_S05_D1_RND.nii'\n",
    "I = sitk.ReadImage(directory)\n",
    "I = sitk.GetArrayFromImage(I)\n",
    "I=I.astype(np.float32)\n",
    "\n",
    "def mask(I,volume, layer):\n",
    "        \n",
    "        if volume<10:\n",
    "            name=str(0)+str(0)+str(volume)\n",
    "        if 9<volume<100:\n",
    "            name=str(0)+str(volume)\n",
    "        if 99<volume<1000:\n",
    "            name=str(volume)\n",
    "            \n",
    "        g=I[volume,layer,:,:]\n",
    "        df = pd.read_csv('/home/mahdi/python codes/centerline_case2/centerline_volume'+name+'.csv', header=None)\n",
    "        df.columns=['x','y','delete']\n",
    "        df=df[['x','y']]\n",
    "        c=df.loc[layer]\n",
    "        x=int(c['x'])\n",
    "        y=int(c['y'])\n",
    "        f=g[y-15:y+15,x-15:x+15]\n",
    "        return f"
   ]
  },
  {
   "cell_type": "code",
   "execution_count": 22,
   "metadata": {},
   "outputs": [
    {
     "data": {
      "text/plain": [
       "(318, 10, 110, 110)"
      ]
     },
     "execution_count": 22,
     "metadata": {},
     "output_type": "execute_result"
    }
   ],
   "source": [
    "I.shape"
   ]
  },
  {
   "cell_type": "code",
   "execution_count": 23,
   "metadata": {},
   "outputs": [],
   "source": [
    "def LucasKanadeee(I1, I2,d,q):\n",
    "    I1 = np.array(I1)\n",
    "    I2 = np.array(I2)\n",
    "    S  = np.shape(I1)\n",
    "    \n",
    "    smooth_kernel=5\n",
    "    I1_smooth = cv2.GaussianBlur(I1,(smooth_kernel,smooth_kernel), 0)\n",
    "    I2_smooth = cv2.GaussianBlur(I2 ,(smooth_kernel,smooth_kernel), 0)\n",
    "    \n",
    "    Ix = signal.convolve2d(I1_smooth,[[-0.25,0.25] , [-0.25,0.25]],'same') + signal.convolve2d(I2_smooth,[[-0.25,0.25],[-0.25,0.25]] ,'same')\n",
    "    Iy = signal.convolve2d(I1_smooth,[[-0.25,-0.25], [0.25,0.25]],'same') + signal.convolve2d(I2_smooth ,[[-0.25,-0.25],[0.25,0.25]]  ,'same')\n",
    "    It = signal.convolve2d(I1_smooth,[[0.25,0.25]  , [0.25,0.25]],'same') + signal.convolve2d(I2_smooth ,[[-0.25,-0.25],[-0.25,-0.25]],'same')\n",
    "    \n",
    "    \n",
    "    features = cv2.goodFeaturesToTrack(I1_smooth, 1000, q, d)\n",
    "    features = np.int0(features)\n",
    "      \n",
    "\n",
    "    plt.subplot(1,3,1)\n",
    "    plt.title('Frame 1')\n",
    "    plt.imshow(I1, cmap = cm.gray)\n",
    "    plt.subplot(1,3,2)\n",
    "    plt.title('Frame 2')\n",
    "    plt.imshow(I2, cmap = cm.gray)#plotting the features in frame1 and plotting over the same\n",
    "    \n",
    " \n",
    "    u = np.nan*np.ones(S)\n",
    "    v = np.nan*np.ones(S)\n",
    "    \n",
    "    for l in features:\n",
    "        j,i = l.ravel()\n",
    "        IX = ([Ix[i-1,j-1],Ix[i,j-1],Ix[i+1,j+1],Ix[i-1,j],Ix[i,j],Ix[i+1,j],Ix[i-1,j+1],Ix[i,j+1],Ix[i+1,j-1]])\n",
    "        IY = ([Iy[i-1,j-1],Iy[i,j-1],Iy[i+1,j+1],Iy[i-1,j],Iy[i,j],Iy[i+1,j],Iy[i-1,j+1],Iy[i,j+1],Iy[i+1,j-1]])\n",
    "        IT = ([It[i-1,j-1],It[i,j-1],It[i+1,j+1],It[i-1,j],It[i,j],It[i+1,j],It[i-1,j+1],It[i,j+1],It[i+1,j-1]])\n",
    "        #IX = ([Ix[i-1,j-1],Ix[i-1,j],Ix[i-1,j+1],Ix[i,j-1],Ix[i,j],Ix[i,j+1],Ix[i+1,j-1],Ix[i+1,j],Ix[i+1,j+1]])\n",
    "        #IY = ([Ix[i-1,j-1],Ix[i-1,j],Ix[i-1,j+1],Ix[i,j-1],Ix[i,j],Ix[i,j+1],Ix[i+1,j-1],Ix[i+1,j],Ix[i+1,j+1]])\n",
    "        #IT = ([Ix[i-1,j-1],Ix[i-1,j],Ix[i-1,j+1],Ix[i,j-1],Ix[i,j],Ix[i,j+1],Ix[i+1,j-1],Ix[i+1,j],Ix[i+1,j+1]])\n",
    "        # Using the minimum least squares solution approach\n",
    "        LK = (IX,IY)\n",
    "        LK = matrix(LK)\n",
    "        LK = array(LK)\n",
    "        \n",
    "        #Psedudo Inverse\n",
    "        A2 = np.linalg.pinv(LK)\n",
    "        IT=np.array(IT)\n",
    "        b=-IT\n",
    "        \n",
    "        (u[i,j],v[i,j]) = np.dot(A2.T,b) # we have the vectors with minimized square error\n",
    "        \n",
    "    a=0     \n",
    "    colors = \"bgrcmyw\"\n",
    "    color_index = random.randrange(0,7)\n",
    "    c=colors[color_index]\n",
    "    #======= Plotting the vectors on the image========\n",
    "    plt.subplot(1,3,3)\n",
    "    plt.title('Vector plot of Optical Flow of good features')\n",
    "    plt.imshow(I1,cmap = cm.gray)\n",
    "    for i in range(S[0]):\n",
    "        for j in range(S[1]):\n",
    "            if (abs(u[i,j])>t or abs(v[i,j])>t): # setting the threshold to plot the vectors\n",
    "                u[i,j]=nan\n",
    "                v[i,j]=nan\n",
    "                a=a+1\n",
    "            plt.arrow(j,i,u[i,j],v[i,j],head_width = 1, head_length = 2, color = c)\n",
    "                \n",
    "    plt.show()\n",
    "    print('number of failed in threshold=',a)\n",
    "    return"
   ]
  },
  {
   "cell_type": "markdown",
   "metadata": {},
   "source": [
    "# make fake image"
   ]
  },
  {
   "cell_type": "code",
   "execution_count": 24,
   "metadata": {},
   "outputs": [],
   "source": [
    "i=np.zeros((500,500))\n",
    "np.array(i)\n",
    "i[50,51]=1\n",
    "i[55,55]=1\n",
    "i=i.astype(np.float32)\n",
    "\n",
    "\n",
    "j=np.zeros((500,500))\n",
    "np.array(j)\n",
    "j[56,50]=1\n",
    "j[54,53]=1\n",
    "j=j.astype(np.float32)\n",
    "\n",
    "###################################### display ##################################\n",
    "#plt.imshow(i,cmap='gray')\n",
    "#plt.figure()\n",
    "#plt.imshow(j,cmap='gray')\n",
    "#plt.show()"
   ]
  },
  {
   "cell_type": "code",
   "execution_count": 19,
   "metadata": {
    "scrolled": true
   },
   "outputs": [
    {
     "name": "stdout",
     "output_type": "stream",
     "text": [
      "number of failed in threshold= 0\n"
     ]
    }
   ],
   "source": [
    "import random\n",
    "from random import randrange\n",
    "#%matplotlib inline\n",
    "t=4\n",
    "############## run for fake image#################\n",
    "LucasKanadeee(i,j,1,.0001)\n",
    "\n",
    "################ run for real image ################ frame=159 , slice=5 ###### and ##### frame=100 , slice=5\n",
    "#LucasKanadeee(I[158,5,:,:], I[159,5,:,:],1,.0001)\n",
    "\n",
    "################## with mask ############################\n",
    "#LucasKanadeee(mask(I,158,5),mask(I,159,5),1,.0001)\n",
    "\n"
   ]
  },
  {
   "cell_type": "code",
   "execution_count": 8,
   "metadata": {},
   "outputs": [
    {
     "name": "stdout",
     "output_type": "stream",
     "text": [
      "number of failed in threshold= 10\n"
     ]
    }
   ],
   "source": [
    "Im1=plt.imread(dir1)\n",
    "Im2=plt.imread(dir2)\n",
    "\n",
    "LucasKanadeee(Im1,Im2,1,0.0001)"
   ]
  },
  {
   "cell_type": "markdown",
   "metadata": {},
   "source": [
    "# feature test "
   ]
  },
  {
   "cell_type": "code",
   "execution_count": 9,
   "metadata": {},
   "outputs": [
    {
     "data": {
      "text/plain": [
       "(13, 1, 2)"
      ]
     },
     "execution_count": 9,
     "metadata": {},
     "output_type": "execute_result"
    }
   ],
   "source": [
    "d=1\n",
    "q1=mask(I,158,5)\n",
    "q2=mask(I,159,5)\n",
    "I1 = np.array(q1)\n",
    "I2 = np.array(q2)\n",
    "\n",
    "smooth_kernel=3\n",
    "I1_smooth = cv2.GaussianBlur(I1,(smooth_kernel,smooth_kernel), 0)\n",
    "I2_smooth = cv2.GaussianBlur(I2 ,(smooth_kernel,smooth_kernel), 0)\n",
    "   \n",
    "features1 = cv2.goodFeaturesToTrack(I1_smooth, 1000, .0001, d)\n",
    "features1 = np.int0(features1)\n",
    "\n",
    "   \n",
    "features2 = cv2.goodFeaturesToTrack(I2_smooth, 1000, 0.0001, d)\n",
    "features2 = np.int0(features2)\n",
    "\n",
    "\n",
    "features1.shape"
   ]
  },
  {
   "cell_type": "code",
   "execution_count": 58,
   "metadata": {},
   "outputs": [],
   "source": [
    "f1=I[0,5,:,:]\n",
    "f2=I[1,5,:,:]\n",
    "f11=mask(I,0,5)\n",
    "f22=mask(I,1,5)\n"
   ]
  },
  {
   "cell_type": "code",
   "execution_count": 61,
   "metadata": {},
   "outputs": [],
   "source": [
    "plt.imshow(f11-f22,cmap='gray')\n",
    "plt.figure()\n",
    "plt.imshow(f1-f2,cmap='gray')\n",
    "plt.figure()\n",
    "plt.imshow(abs(f1-f2),cmap='gray')\n",
    "plt.figure()\n",
    "plt.imshow(I[0,5,:,:],cmap='gray')\n",
    "plt.show()"
   ]
  },
  {
   "cell_type": "code",
   "execution_count": 55,
   "metadata": {},
   "outputs": [
    {
     "data": {
      "text/plain": [
       "array([[   4.,  -44.,  -35.,   52.,   48.,  -52.,    1.,  -23.,  -12.,\n",
       "          17.,   62.,    8.,   -5.,   16.,    6.,   13.,    2.,   34.,\n",
       "         -12.,  -13.,    2.,  -54.,  -10.,  -34.,   18.,   55.,   15.,\n",
       "         -26.,  -25.,   57.],\n",
       "       [  -5.,    6.,   -3.,    9.,    7.,  -48.,  -42.,   11.,  -18.,\n",
       "         -55.,   54.,    7.,  -43.,   -9.,   -7.,  -26.,    4.,   14.,\n",
       "          11.,  -11.,   -1.,  -35.,   -1.,  -85.,   -3.,  -47.,   25.,\n",
       "          10.,   13.,  -32.],\n",
       "       [   0.,    8.,   23.,   -3.,   26.,   22.,  -54.,    7.,   20.,\n",
       "          -2.,   42.,   35.,   23.,    8.,   -1.,  -19.,   21.,    6.,\n",
       "           2.,    3.,    2.,   34.,   26.,  -24.,   15.,  -16.,  -13.,\n",
       "         -19.,    5.,   26.],\n",
       "       [  45.,   11.,   18.,   35.,  -17.,    1.,  -47.,   -9.,   37.,\n",
       "          59.,  -23.,    4.,   42.,   -2.,   -3.,  -15.,    1.,   -1.,\n",
       "         -12.,    7.,  -27.,    7.,  -30.,  -19.,  -24.,    2.,    2.,\n",
       "          35.,  -18.,    4.],\n",
       "       [ -55.,   19.,  -45.,  -24.,   27.,    0.,  -26.,  -37.,  -23.,\n",
       "         114.,  -22.,   -8.,   27.,   30.,   14.,    4.,    5.,   -5.,\n",
       "         -42.,   -3.,  -20.,    4.,   15.,   58.,   -6.,  -54.,  -69.,\n",
       "         -19.,  -38.,   15.],\n",
       "       [  45.,  -50.,  -53.,   -5.,  -38.,  -52.,   62.,   32.,  138.,\n",
       "          45.,  -34.,  -32.,   39.,   59.,   13.,  -16.,   -1.,  -27.,\n",
       "          35.,    2.,    5.,   14.,  -18.,   42.,  -23.,    5.,    4.,\n",
       "          -5.,    3.,  -27.],\n",
       "       [  91.,  -77.,   10.,   25.,  -39.,  -47.,   21.,   31.,   42.,\n",
       "           9.,  -46.,  -16.,   51.,  -16.,    6.,  -35.,   33.,  -61.,\n",
       "         -56.,   -1.,   13.,  -28.,  -73.,    1.,  -34.,    2.,  -10.,\n",
       "          19.,  -29.,   19.],\n",
       "       [   4.,  -31.,  -15.,  -15.,   12.,   29.,  -49.,   23.,  -12.,\n",
       "         -33.,   47.,   -2.,   31.,    1.,   40.,  -22.,  -34.,   -4.,\n",
       "           1.,   41.,    1.,   40.,  -42.,   14.,   -5.,  -30.,   -1.,\n",
       "          67.,   -8.,  -29.],\n",
       "       [  60.,  -51.,  -32.,    8.,  -20.,  -69.,   21.,  -10.,  -58.,\n",
       "          11.,  -16.,   -3.,   47.,   39.,  -11.,   14.,  -47.,   22.,\n",
       "         -60.,   -6.,   39.,  -49.,   49.,   -3.,    1.,   10.,   61.,\n",
       "         -10.,   18.,   24.],\n",
       "       [  84.,  -39.,  -19.,  -42.,   -1.,  -33.,  -37., -100.,   33.,\n",
       "         -41.,   -6.,   27.,   32.,    2.,  -23.,  -16.,   -5.,  -43.,\n",
       "          29.,   59.,  -76.,  -38.,  -34.,   24.,  -11.,    7.,   13.,\n",
       "         -12.,    3.,  -25.],\n",
       "       [ -42.,  -83.,  -11.,  -18.,  -24.,  -41.,   -6.,   23.,    5.,\n",
       "         -45.,  -30.,  -45.,  -37.,  -11.,   21.,   37.,   31.,   11.,\n",
       "          15.,    4.,   45.,  -44.,    7.,    0.,  -28.,  -11.,  -26.,\n",
       "          63.,   67.,   53.],\n",
       "       [  -9.,   26.,  -10.,   -4.,  -18.,    7.,   -1.,    0.,   11.,\n",
       "          24.,   15.,  -14.,    7.,   -9.,   -4.,  -40.,  -33.,   -5.,\n",
       "          60.,   51.,  -51.,   -9.,   28.,   20.,    0.,   -7.,    4.,\n",
       "          27.,   24.,    6.],\n",
       "       [   0.,  -35.,  -22.,    6.,  -14.,   25.,   -9.,    9.,  -23.,\n",
       "          18.,  -19.,   21.,   30.,  -12.,   16.,  -18.,  -26.,   17.,\n",
       "          42.,  -17.,  -89.,  -42.,   48.,   21.,    5.,  -11.,  -22.,\n",
       "           7.,    0.,    0.],\n",
       "       [ -44.,  -16.,   27.,   13.,   24.,   -9.,    5.,  -28.,  -41.,\n",
       "          27.,    0.,   -4.,   -8.,   48.,   19.,  -34.,  -47.,   34.,\n",
       "         -53.,    1.,   20.,    5.,    5.,   92.,   21.,   -5.,   14.,\n",
       "          14.,   -5.,   11.],\n",
       "       [  -4.,   -6.,   24.,  -15.,   -8.,   -1.,   -3.,    6.,   -9.,\n",
       "          73.,   -6.,   -9.,  -44.,  -18.,   21.,   50.,  -30.,   24.,\n",
       "         -18.,  -41.,   -9.,  -45.,  134.,  104.,   62.,   -9.,   25.,\n",
       "          34.,  -28.,   11.],\n",
       "       [   4.,    0.,  -15.,   24.,   11.,   22.,    9.,  -42.,   24.,\n",
       "          89.,   31.,   16.,   47.,  -15.,   34.,   47.,   17.,   -7.,\n",
       "           7.,   70.,  -25.,   15.,  200.,   27.,  138.,   18.,    1.,\n",
       "         -10.,   -8.,   -9.],\n",
       "       [   2.,   23.,   12.,  -34.,   -2.,   45.,   28.,  -61.,   90.,\n",
       "          63.,   72.,  -27.,   13.,  -31.,  -20.,  -16.,   29.,   62.,\n",
       "           3.,   52.,  -34.,   84.,   29.,  -10.,   39.,  -14.,  -22.,\n",
       "          38.,  -13.,   -8.],\n",
       "       [  23.,   -3.,    7.,   -1.,   29.,  -12.,  -72.,  -95.,   70.,\n",
       "         118.,  101.,   60.,  -37.,  -50.,   56.,   19.,   14.,   42.,\n",
       "          90.,   17.,   54.,   48.,   15.,   45.,  123.,  -10.,   19.,\n",
       "         -18.,   -8.,  -19.],\n",
       "       [   7.,  -11.,    8.,    6.,  -16.,  -24.,  -37.,    4.,  -33.,\n",
       "         148.,   35.,   86.,   65.,   17.,  103.,   49.,   93.,   24.,\n",
       "          -9.,   64.,   51.,   -5.,  -27.,   44.,  112.,   14.,  -13.,\n",
       "          37.,  -15.,  -15.],\n",
       "       [  -2.,  -21.,    9.,  -10.,   16.,  -12.,    8.,  -20., -122.,\n",
       "         -31.,   -9.,   21.,   59.,   36.,   21.,  -21.,  -35.,   39.,\n",
       "         -23.,   21.,  -32.,  -13.,   20.,   11.,   66.,   34.,  -21.,\n",
       "         -26.,    8.,  -36.],\n",
       "       [  -9.,    4.,    0.,    3.,  -12.,   18.,   28.,   11.,  -22.,\n",
       "         -71.,  -74.,   26.,  -19.,   21.,  -15.,   -7.,   50.,   53.,\n",
       "          21.,  -23.,   -7.,   42.,   18.,  -10.,    1.,   -1.,    1.,\n",
       "         -27.,   -7.,  -10.],\n",
       "       [   1.,    7.,  -14.,  -13.,  -35.,    6.,   44.,  -50.,  -16.,\n",
       "          16.,  -99.,   23.,  -48.,  -67.,  -60.,  -30.,  -64.,  -72.,\n",
       "          24.,    3.,    4.,   73.,   13.,  -31.,    2.,  -22.,   14.,\n",
       "         -17.,   -7.,  -24.],\n",
       "       [  10.,   11.,    7.,   -9.,   -1.,   15.,   19.,  -30.,    0.,\n",
       "         -22.,    2.,  -83.,   -5.,  -33.,  -35.,  -41.,  -41.,  -42.,\n",
       "         -40.,  -62.,  -44.,    2.,  -23.,    2.,  -12.,  -12.,  -27.,\n",
       "          20.,  -18.,  -18.],\n",
       "       [ -23.,   18.,   -3.,   20.,    4.,    3.,   20.,  -19.,   28.,\n",
       "         -36.,  -44.,  -49.,  -18.,  -39.,  -43.,   27.,  -39.,   17.,\n",
       "         -17.,   14.,   -6.,  -16.,   26.,   -8.,    8.,  -18.,  -14.,\n",
       "         -24.,   -5.,   17.],\n",
       "       [  10.,    1.,  -19.,  -18.,   35.,  -28.,   -8.,  -27.,   23.,\n",
       "          -5.,  -25.,  -16.,    3.,   19.,  -43.,  -19.,   41.,  -19.,\n",
       "           8.,  -10.,   19.,   -9.,   -5.,    7.,   21.,    2.,  -26.,\n",
       "          25.,   36.,   69.],\n",
       "       [ -10.,   34.,   19.,   61.,    8.,   -6.,  -11.,   -6.,  -31.,\n",
       "         -33.,   21.,   -6.,    4.,  -14.,  -19.,   22.,  -23.,  -17.,\n",
       "           2.,   17.,   34.,  -22.,   -4.,   21.,  -12.,   -4.,   13.,\n",
       "          -8.,  -20.,   52.],\n",
       "       [ -23.,   20.,   50.,   85.,   38.,    3.,   21.,   -6.,    0.,\n",
       "          -1.,  -14.,  -13.,   14.,    0.,    6.,   42.,   -4.,    1.,\n",
       "         -23.,   -2.,   -1.,  -22.,  -13.,   23.,  -10.,   22.,   52.,\n",
       "          29.,    9.,   10.],\n",
       "       [  -2.,  -46.,  129.,   -8.,   98.,   -1.,    5.,   10.,   27.,\n",
       "          -9.,  -24.,    8.,    5.,   15.,    4.,   -1.,  -11.,   15.,\n",
       "          -2.,  -19.,   11.,    7.,   -2.,    4.,    0.,   31.,   -1.,\n",
       "          12.,   -6.,    0.],\n",
       "       [   8.,   19.,   68.,  -39.,   82.,   28.,    8.,   11.,    1.,\n",
       "           5.,   -3.,   -5.,  -18.,   -7.,   -2.,   -2.,    5.,    4.,\n",
       "           2.,   24.,    1.,  -15.,   -1.,    9.,    0.,  -14.,   -9.,\n",
       "          24.,  -15.,   -1.],\n",
       "       [  -8.,   12.,   50.,   12.,   69.,   -7.,    3.,   -2.,    2.,\n",
       "           8.,   22.,   -6.,   16.,   -7.,  -19.,  -13.,   25.,  -11.,\n",
       "           3.,   30.,   12.,    7.,   10.,   -9.,  -12.,   15.,   12.,\n",
       "          17.,  -38.,  -13.]], dtype=float32)"
      ]
     },
     "execution_count": 55,
     "metadata": {},
     "output_type": "execute_result"
    }
   ],
   "source": [
    "f11-f22"
   ]
  },
  {
   "cell_type": "markdown",
   "metadata": {},
   "source": [
    "# add sense"
   ]
  }
 ],
 "metadata": {
  "kernelspec": {
   "display_name": "Python 3",
   "language": "python",
   "name": "python3"
  },
  "language_info": {
   "codemirror_mode": {
    "name": "ipython",
    "version": 3
   },
   "file_extension": ".py",
   "mimetype": "text/x-python",
   "name": "python",
   "nbconvert_exporter": "python",
   "pygments_lexer": "ipython3",
   "version": "3.7.9"
  }
 },
 "nbformat": 4,
 "nbformat_minor": 4
}
